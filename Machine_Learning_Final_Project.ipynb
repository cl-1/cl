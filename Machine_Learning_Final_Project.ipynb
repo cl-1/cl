{
  "nbformat": 4,
  "nbformat_minor": 0,
  "metadata": {
    "colab": {
      "provenance": [],
      "include_colab_link": true
    },
    "kernelspec": {
      "name": "python3",
      "display_name": "Python 3"
    },
    "language_info": {
      "name": "python"
    }
  },
  "cells": [
    {
      "cell_type": "markdown",
      "metadata": {
        "id": "view-in-github",
        "colab_type": "text"
      },
      "source": [
        "<a href=\"https://colab.research.google.com/github/cl-1/cl/blob/master/Machine_Learning_Final_Project.ipynb\" target=\"_parent\"><img src=\"https://colab.research.google.com/assets/colab-badge.svg\" alt=\"Open In Colab\"/></a>"
      ]
    },
    {
      "cell_type": "code",
      "execution_count": null,
      "metadata": {
        "id": "WKIeYC5wpwHu"
      },
      "outputs": [],
      "source": [
        "import re\n",
        "import pandas as pd\n",
        "from toolz import *\n",
        "from toolz.curried import *\n",
        "\n",
        "# paths to all the csvs files provided in the challenge.\n",
        "trainPath   = \"train.csv\"\n",
        "testPath    = \"test.csv\"\n",
        "microPath   = \"properties.csv\"\n",
        "macrosPaths = [\"cpi.csv\", \"interest.csv\", \"rentIndex.csv\", \"vacant.csv\"]\n",
        "geoPath     = \"geo_attributes.csv\"\n",
        "\n",
        "# load the csvs into pandas's Dataframe.\n",
        "## load train&test_keys that contain unique identifier for each observation\n",
        "train_keys = pd.read_csv(trainPath).assign(train = 1)\n",
        "test_keys  = pd.read_csv(testPath).assign(train = 0).assign(price = pd.NA)\n",
        "keys       = pd.concat([train_keys, test_keys])\n",
        "keys       = keys.rename(columns = {\"contractDate\" : \"date\"})\n",
        "\n",
        "## merge key with micro to borrow the date information in key.\n",
        "_micro = pd.read_csv(microPath)\n",
        "micro  = pd.merge(_micro, keys, on = \"property_key\")\n",
        "\n",
        "## load all the macro files\n",
        "macros = []\n",
        "for macrosPath in macrosPaths:\n",
        "    df = pd.read_csv(macrosPath)\n",
        "    df = df.rename(columns = {\"Data Series\" : \"date\"})\n",
        "    macros.append(df)\n",
        "\n",
        "# load geo\n",
        "geo = pd.read_csv(geoPath)"
      ]
    },
    {
      "cell_type": "code",
      "source": [
        "def preprocess_micro(micro):\n",
        "\n",
        "    def _floorRange(row, thresFloor = 41):\n",
        "\n",
        "        floorRange = row[\"floorRange\"]\n",
        "        if floorRange != \"-\":\n",
        "            floorMin = int(re.search(\"(\\d+)-\", floorRange).groups()[0])\n",
        "            if floorMin >= thresFloor:\n",
        "                row[\"floorRange\"] = f\"{thresFloor}-99\"\n",
        "        return row\n",
        "\n",
        "    def _tenure(row):\n",
        "\n",
        "        tenure = row[\"tenure\"]\n",
        "        if tenure == \"Freehold\" : row[\"tenure\"] = 1\n",
        "        else                    : row[\"tenure\"] = 0\n",
        "        return row\n",
        "\n",
        "    micro = (micro\n",
        "             .apply(_floorRange, axis = 1)\n",
        "             .apply(_tenure, axis = 1))\n",
        "\n",
        "    micro[\"date\"] = pd.to_datetime(micro[\"date\"])\n",
        "\n",
        "    return micro\n",
        "\n",
        "\n",
        "def preprocess_macros(cpi, interest, rentIndex, vacant):\n",
        "\n",
        "\n",
        "    def yq2ym(df):\n",
        "\n",
        "\n",
        "        # repeat the first row for desired interpolation result\n",
        "        df = pd.concat([df.head(0), df])\n",
        "        df.at[0, \"date\"] = \"2023 1Q \"\n",
        "\n",
        "        df[\"date\"] = (pd.to_datetime((df[\"date\"]\n",
        "                                      .str\n",
        "                                      .replace(r\"(\\d+) (\\d)Q \", r\"\\1-Q\\2\")))\n",
        "                      .dt\n",
        "                      .to_period('M'))\n",
        "        df = df.set_index(\"date\").resample(\"M\", convention = \"end\").interpolate(\"linear\")\n",
        "        return df\n",
        "\n",
        "    def ym2ym(df):\n",
        "\n",
        "        df[\"date\"] = (pd.to_datetime(df[\"date\"], format = \"%Y %b \")\n",
        "                      .dt\n",
        "                      .to_period('M'))\n",
        "        return df\n",
        "\n",
        "    def mergeDfs(dfs, on):\n",
        "\n",
        "        # grab first dataframe\n",
        "        all_merged = dfs[0]\n",
        "        # loop through all but first data frame\n",
        "        for to_merge in dfs[1:]:\n",
        "            # result of merge replaces first or previously\n",
        "            # merged data frame w/ all previous fields\n",
        "            all_merged = pd.merge(all_merged, to_merge,\n",
        "                                  how = 'inner',\n",
        "                                  on  = on)\n",
        "        return all_merged\n",
        "\n",
        "    # apply appropriate date conversion function for each dataframe\n",
        "    dfs = [ym2ym(cpi), ym2ym(interest), yq2ym(rentIndex), yq2ym(vacant)]\n",
        "\n",
        "    # join all dataframs into one\n",
        "    df = mergeDfs(dfs, on = \"date\")\n",
        "    # convert peroid[M] to datetime\n",
        "    df[\"date\"] = df[\"date\"].dt.to_timestamp()\n",
        "    # shift month + 3\n",
        "    df[\"date\"] = df[\"date\"] + pd.DateOffset(months=+3)\n",
        "\n",
        "    return df"
      ],
      "metadata": {
        "id": "hFTcD-76qO_a"
      },
      "execution_count": null,
      "outputs": []
    },
    {
      "cell_type": "code",
      "source": [
        "micro = preprocess_micro(micro)\n",
        "macro = preprocess_macros(*macros)"
      ],
      "metadata": {
        "id": "6JXHD79AqUvB",
        "colab": {
          "base_uri": "https://localhost:8080/"
        },
        "outputId": "af676243-d418-429e-e2d1-6fbe1a137322"
      },
      "execution_count": null,
      "outputs": [
        {
          "output_type": "stream",
          "name": "stderr",
          "text": [
            "<ipython-input-63-2c301e00b591>:40: FutureWarning: The default value of regex will change from True to False in a future version.\n",
            "  .replace(r\"(\\d+) (\\d)Q \", r\"\\1-Q\\2\")))\n",
            "<ipython-input-63-2c301e00b591>:40: FutureWarning: The default value of regex will change from True to False in a future version.\n",
            "  .replace(r\"(\\d+) (\\d)Q \", r\"\\1-Q\\2\")))\n"
          ]
        }
      ]
    },
    {
      "cell_type": "code",
      "source": [
        "_merged = pd.merge(micro, macro, on = \"date\", how = \"left\")\n",
        "merged  = pd.merge(_merged, geo, on = [\"street\", \"project\", \"district\"], how = \"left\")\n",
        "floorRange  = merged.fillna(merged.mean())"
      ],
      "metadata": {
        "colab": {
          "base_uri": "https://localhost:8080/"
        },
        "id": "SooNKlsWrFxj",
        "outputId": "4bc7543c-a7b5-4314-a888-b6f2d43cb5a6"
      },
      "execution_count": null,
      "outputs": [
        {
          "output_type": "stream",
          "name": "stderr",
          "text": [
            "<ipython-input-65-4254b218f815>:3: FutureWarning: DataFrame.mean and DataFrame.median with numeric_only=None will include datetime64 and datetime64tz columns in a future version.\n",
            "  floorRange  = merged.fillna(merged.mean())\n",
            "<ipython-input-65-4254b218f815>:3: FutureWarning: The default value of numeric_only in DataFrame.mean is deprecated. In a future version, it will default to False. In addition, specifying 'numeric_only=None' is deprecated. Select only valid columns or specify the value of numeric_only to silence this warning.\n",
            "  floorRange  = merged.fillna(merged.mean())\n"
          ]
        }
      ]
    },
    {
      "cell_type": "code",
      "source": [
        "merged['floorRange'].unique()"
      ],
      "metadata": {
        "colab": {
          "base_uri": "https://localhost:8080/"
        },
        "id": "zVnUZbr4jY4U",
        "outputId": "fd326439-ff3c-4ee9-bef0-6b763f37dc24"
      },
      "execution_count": null,
      "outputs": [
        {
          "output_type": "execute_result",
          "data": {
            "text/plain": [
              "array(['01-05', '06-10', '16-20', '21-25', '26-30', '11-15', '-', '41-99',\n",
              "       '36-40', '31-35', 'B1-B5'], dtype=object)"
            ]
          },
          "metadata": {},
          "execution_count": 66
        }
      ]
    },
    {
      "cell_type": "code",
      "source": [
        "# Define a function to extract the minimum and maximum floors from the range\n",
        "def extract_min_max_floors(range):\n",
        "    if range == '-':\n",
        "        return pd.Series([None, None])\n",
        "    elif range.startswith('B'):\n",
        "        # Handle the \"B\" case\n",
        "        start, end = range.replace('B', '').split('-')\n",
        "        start = int(start)\n",
        "        end = int(end)\n",
        "        return pd.Series([start, end])\n",
        "    else:\n",
        "        # Handle the regular case\n",
        "        start, end = range.split('-')\n",
        "        return pd.Series([int(start), int(end)])\n",
        "\n",
        "# Apply the function to the 'floorRange' column to extract the minimum and maximum floors\n",
        "merged[['minFloor', 'maxFloor']] = merged['floorRange'].apply(extract_min_max_floors)"
      ],
      "metadata": {
        "id": "6KVqFOTkiE78"
      },
      "execution_count": null,
      "outputs": []
    },
    {
      "cell_type": "code",
      "source": [
        "merged = merged.drop([\"floorRange\"], axis=1)\n",
        "merged[['minFloor', 'maxFloor']].head()"
      ],
      "metadata": {
        "colab": {
          "base_uri": "https://localhost:8080/",
          "height": 206
        },
        "id": "XEk5bX0FmHbw",
        "outputId": "14ed64fa-adc7-4a95-d716-3f0e390d5e92"
      },
      "execution_count": null,
      "outputs": [
        {
          "output_type": "execute_result",
          "data": {
            "text/plain": [
              "   minFloor  maxFloor\n",
              "0       1.0       5.0\n",
              "1       1.0       5.0\n",
              "2       1.0       5.0\n",
              "3       1.0       5.0\n",
              "4       1.0       5.0"
            ],
            "text/html": [
              "\n",
              "  <div id=\"df-204e8ec5-e3a0-40fd-a795-c432b114b7c4\">\n",
              "    <div class=\"colab-df-container\">\n",
              "      <div>\n",
              "<style scoped>\n",
              "    .dataframe tbody tr th:only-of-type {\n",
              "        vertical-align: middle;\n",
              "    }\n",
              "\n",
              "    .dataframe tbody tr th {\n",
              "        vertical-align: top;\n",
              "    }\n",
              "\n",
              "    .dataframe thead th {\n",
              "        text-align: right;\n",
              "    }\n",
              "</style>\n",
              "<table border=\"1\" class=\"dataframe\">\n",
              "  <thead>\n",
              "    <tr style=\"text-align: right;\">\n",
              "      <th></th>\n",
              "      <th>minFloor</th>\n",
              "      <th>maxFloor</th>\n",
              "    </tr>\n",
              "  </thead>\n",
              "  <tbody>\n",
              "    <tr>\n",
              "      <th>0</th>\n",
              "      <td>1.0</td>\n",
              "      <td>5.0</td>\n",
              "    </tr>\n",
              "    <tr>\n",
              "      <th>1</th>\n",
              "      <td>1.0</td>\n",
              "      <td>5.0</td>\n",
              "    </tr>\n",
              "    <tr>\n",
              "      <th>2</th>\n",
              "      <td>1.0</td>\n",
              "      <td>5.0</td>\n",
              "    </tr>\n",
              "    <tr>\n",
              "      <th>3</th>\n",
              "      <td>1.0</td>\n",
              "      <td>5.0</td>\n",
              "    </tr>\n",
              "    <tr>\n",
              "      <th>4</th>\n",
              "      <td>1.0</td>\n",
              "      <td>5.0</td>\n",
              "    </tr>\n",
              "  </tbody>\n",
              "</table>\n",
              "</div>\n",
              "      <button class=\"colab-df-convert\" onclick=\"convertToInteractive('df-204e8ec5-e3a0-40fd-a795-c432b114b7c4')\"\n",
              "              title=\"Convert this dataframe to an interactive table.\"\n",
              "              style=\"display:none;\">\n",
              "        \n",
              "  <svg xmlns=\"http://www.w3.org/2000/svg\" height=\"24px\"viewBox=\"0 0 24 24\"\n",
              "       width=\"24px\">\n",
              "    <path d=\"M0 0h24v24H0V0z\" fill=\"none\"/>\n",
              "    <path d=\"M18.56 5.44l.94 2.06.94-2.06 2.06-.94-2.06-.94-.94-2.06-.94 2.06-2.06.94zm-11 1L8.5 8.5l.94-2.06 2.06-.94-2.06-.94L8.5 2.5l-.94 2.06-2.06.94zm10 10l.94 2.06.94-2.06 2.06-.94-2.06-.94-.94-2.06-.94 2.06-2.06.94z\"/><path d=\"M17.41 7.96l-1.37-1.37c-.4-.4-.92-.59-1.43-.59-.52 0-1.04.2-1.43.59L10.3 9.45l-7.72 7.72c-.78.78-.78 2.05 0 2.83L4 21.41c.39.39.9.59 1.41.59.51 0 1.02-.2 1.41-.59l7.78-7.78 2.81-2.81c.8-.78.8-2.07 0-2.86zM5.41 20L4 18.59l7.72-7.72 1.47 1.35L5.41 20z\"/>\n",
              "  </svg>\n",
              "      </button>\n",
              "      \n",
              "  <style>\n",
              "    .colab-df-container {\n",
              "      display:flex;\n",
              "      flex-wrap:wrap;\n",
              "      gap: 12px;\n",
              "    }\n",
              "\n",
              "    .colab-df-convert {\n",
              "      background-color: #E8F0FE;\n",
              "      border: none;\n",
              "      border-radius: 50%;\n",
              "      cursor: pointer;\n",
              "      display: none;\n",
              "      fill: #1967D2;\n",
              "      height: 32px;\n",
              "      padding: 0 0 0 0;\n",
              "      width: 32px;\n",
              "    }\n",
              "\n",
              "    .colab-df-convert:hover {\n",
              "      background-color: #E2EBFA;\n",
              "      box-shadow: 0px 1px 2px rgba(60, 64, 67, 0.3), 0px 1px 3px 1px rgba(60, 64, 67, 0.15);\n",
              "      fill: #174EA6;\n",
              "    }\n",
              "\n",
              "    [theme=dark] .colab-df-convert {\n",
              "      background-color: #3B4455;\n",
              "      fill: #D2E3FC;\n",
              "    }\n",
              "\n",
              "    [theme=dark] .colab-df-convert:hover {\n",
              "      background-color: #434B5C;\n",
              "      box-shadow: 0px 1px 3px 1px rgba(0, 0, 0, 0.15);\n",
              "      filter: drop-shadow(0px 1px 2px rgba(0, 0, 0, 0.3));\n",
              "      fill: #FFFFFF;\n",
              "    }\n",
              "  </style>\n",
              "\n",
              "      <script>\n",
              "        const buttonEl =\n",
              "          document.querySelector('#df-204e8ec5-e3a0-40fd-a795-c432b114b7c4 button.colab-df-convert');\n",
              "        buttonEl.style.display =\n",
              "          google.colab.kernel.accessAllowed ? 'block' : 'none';\n",
              "\n",
              "        async function convertToInteractive(key) {\n",
              "          const element = document.querySelector('#df-204e8ec5-e3a0-40fd-a795-c432b114b7c4');\n",
              "          const dataTable =\n",
              "            await google.colab.kernel.invokeFunction('convertToInteractive',\n",
              "                                                     [key], {});\n",
              "          if (!dataTable) return;\n",
              "\n",
              "          const docLinkHtml = 'Like what you see? Visit the ' +\n",
              "            '<a target=\"_blank\" href=https://colab.research.google.com/notebooks/data_table.ipynb>data table notebook</a>'\n",
              "            + ' to learn more about interactive tables.';\n",
              "          element.innerHTML = '';\n",
              "          dataTable['output_type'] = 'display_data';\n",
              "          await google.colab.output.renderOutput(dataTable, element);\n",
              "          const docLink = document.createElement('div');\n",
              "          docLink.innerHTML = docLinkHtml;\n",
              "          element.appendChild(docLink);\n",
              "        }\n",
              "      </script>\n",
              "    </div>\n",
              "  </div>\n",
              "  "
            ]
          },
          "metadata": {},
          "execution_count": 76
        }
      ]
    },
    {
      "cell_type": "code",
      "source": [
        "merged = merged.fillna(0)"
      ],
      "metadata": {
        "id": "6NJzsIA-Qmsv"
      },
      "execution_count": null,
      "outputs": []
    },
    {
      "cell_type": "code",
      "source": [
        "from sklearn.ensemble import RandomForestRegressor\n",
        "from sklearn.preprocessing import LabelEncoder\n",
        "import numpy as np"
      ],
      "metadata": {
        "id": "iisHwIffmjBw"
      },
      "execution_count": null,
      "outputs": []
    },
    {
      "cell_type": "code",
      "source": [
        "le = LabelEncoder()\n",
        "merged['date'] = le.fit_transform(merged['date'])\n",
        "merged['property_key'] = le.fit_transform(merged['property_key'])\n",
        "merged['street'] = le.fit_transform(merged['street'])\n",
        "merged['tenure'] = le.fit_transform(merged['tenure'])\n",
        "merged['marketSegment'] = le.fit_transform(merged['marketSegment'])\n",
        "merged['project'] = le.fit_transform(merged['project'])\n",
        "merged['typeOfArea'] = le.fit_transform(merged['typeOfArea'])\n",
        "merged['propertyType'] = le.fit_transform(merged['propertyType'])\n"
      ],
      "metadata": {
        "id": "nmgr43pwbVnN"
      },
      "execution_count": null,
      "outputs": []
    },
    {
      "cell_type": "code",
      "source": [
        "merged.columns"
      ],
      "metadata": {
        "colab": {
          "base_uri": "https://localhost:8080/"
        },
        "id": "ULJXwNvdQq8X",
        "outputId": "bc4376c0-d284-4b21-cf4f-f0d8ced549f7"
      },
      "execution_count": null,
      "outputs": [
        {
          "output_type": "execute_result",
          "data": {
            "text/plain": [
              "Index(['area', 'propertyType', 'district', 'typeOfArea', 'tenure', 'street',\n",
              "       'project', 'marketSegment', 'property_key', 'date', 'price', 'train',\n",
              "       'CPI', 'InterestRate', 'RentIndex', 'Available', 'Vacant', 'lat', 'lng',\n",
              "       'num_schools_1km', 'num_supermarkets_500m', 'num_mrt_stations_500m',\n",
              "       'minFloor', 'maxFloor'],\n",
              "      dtype='object')"
            ]
          },
          "metadata": {},
          "execution_count": 97
        }
      ]
    },
    {
      "cell_type": "code",
      "source": [
        "train = merged[merged[\"train\"] == 1]\n",
        "X = merged.drop([\"price\"], axis=1)\n",
        "y = merged[\"price\"]"
      ],
      "metadata": {
        "id": "2zy9v8Uxh03v"
      },
      "execution_count": null,
      "outputs": []
    },
    {
      "cell_type": "code",
      "source": [
        "forest = RandomForestRegressor()\n",
        "forest.fit(X, y)"
      ],
      "metadata": {
        "colab": {
          "base_uri": "https://localhost:8080/",
          "height": 75
        },
        "id": "QKOP9HVkh6Jp",
        "outputId": "229c1f46-9568-4b3e-b0b6-19995d88e2a5"
      },
      "execution_count": null,
      "outputs": [
        {
          "output_type": "execute_result",
          "data": {
            "text/plain": [
              "RandomForestRegressor()"
            ],
            "text/html": [
              "<style>#sk-container-id-4 {color: black;background-color: white;}#sk-container-id-4 pre{padding: 0;}#sk-container-id-4 div.sk-toggleable {background-color: white;}#sk-container-id-4 label.sk-toggleable__label {cursor: pointer;display: block;width: 100%;margin-bottom: 0;padding: 0.3em;box-sizing: border-box;text-align: center;}#sk-container-id-4 label.sk-toggleable__label-arrow:before {content: \"▸\";float: left;margin-right: 0.25em;color: #696969;}#sk-container-id-4 label.sk-toggleable__label-arrow:hover:before {color: black;}#sk-container-id-4 div.sk-estimator:hover label.sk-toggleable__label-arrow:before {color: black;}#sk-container-id-4 div.sk-toggleable__content {max-height: 0;max-width: 0;overflow: hidden;text-align: left;background-color: #f0f8ff;}#sk-container-id-4 div.sk-toggleable__content pre {margin: 0.2em;color: black;border-radius: 0.25em;background-color: #f0f8ff;}#sk-container-id-4 input.sk-toggleable__control:checked~div.sk-toggleable__content {max-height: 200px;max-width: 100%;overflow: auto;}#sk-container-id-4 input.sk-toggleable__control:checked~label.sk-toggleable__label-arrow:before {content: \"▾\";}#sk-container-id-4 div.sk-estimator input.sk-toggleable__control:checked~label.sk-toggleable__label {background-color: #d4ebff;}#sk-container-id-4 div.sk-label input.sk-toggleable__control:checked~label.sk-toggleable__label {background-color: #d4ebff;}#sk-container-id-4 input.sk-hidden--visually {border: 0;clip: rect(1px 1px 1px 1px);clip: rect(1px, 1px, 1px, 1px);height: 1px;margin: -1px;overflow: hidden;padding: 0;position: absolute;width: 1px;}#sk-container-id-4 div.sk-estimator {font-family: monospace;background-color: #f0f8ff;border: 1px dotted black;border-radius: 0.25em;box-sizing: border-box;margin-bottom: 0.5em;}#sk-container-id-4 div.sk-estimator:hover {background-color: #d4ebff;}#sk-container-id-4 div.sk-parallel-item::after {content: \"\";width: 100%;border-bottom: 1px solid gray;flex-grow: 1;}#sk-container-id-4 div.sk-label:hover label.sk-toggleable__label {background-color: #d4ebff;}#sk-container-id-4 div.sk-serial::before {content: \"\";position: absolute;border-left: 1px solid gray;box-sizing: border-box;top: 0;bottom: 0;left: 50%;z-index: 0;}#sk-container-id-4 div.sk-serial {display: flex;flex-direction: column;align-items: center;background-color: white;padding-right: 0.2em;padding-left: 0.2em;position: relative;}#sk-container-id-4 div.sk-item {position: relative;z-index: 1;}#sk-container-id-4 div.sk-parallel {display: flex;align-items: stretch;justify-content: center;background-color: white;position: relative;}#sk-container-id-4 div.sk-item::before, #sk-container-id-4 div.sk-parallel-item::before {content: \"\";position: absolute;border-left: 1px solid gray;box-sizing: border-box;top: 0;bottom: 0;left: 50%;z-index: -1;}#sk-container-id-4 div.sk-parallel-item {display: flex;flex-direction: column;z-index: 1;position: relative;background-color: white;}#sk-container-id-4 div.sk-parallel-item:first-child::after {align-self: flex-end;width: 50%;}#sk-container-id-4 div.sk-parallel-item:last-child::after {align-self: flex-start;width: 50%;}#sk-container-id-4 div.sk-parallel-item:only-child::after {width: 0;}#sk-container-id-4 div.sk-dashed-wrapped {border: 1px dashed gray;margin: 0 0.4em 0.5em 0.4em;box-sizing: border-box;padding-bottom: 0.4em;background-color: white;}#sk-container-id-4 div.sk-label label {font-family: monospace;font-weight: bold;display: inline-block;line-height: 1.2em;}#sk-container-id-4 div.sk-label-container {text-align: center;}#sk-container-id-4 div.sk-container {/* jupyter's `normalize.less` sets `[hidden] { display: none; }` but bootstrap.min.css set `[hidden] { display: none !important; }` so we also need the `!important` here to be able to override the default hidden behavior on the sphinx rendered scikit-learn.org. See: https://github.com/scikit-learn/scikit-learn/issues/21755 */display: inline-block !important;position: relative;}#sk-container-id-4 div.sk-text-repr-fallback {display: none;}</style><div id=\"sk-container-id-4\" class=\"sk-top-container\"><div class=\"sk-text-repr-fallback\"><pre>RandomForestRegressor()</pre><b>In a Jupyter environment, please rerun this cell to show the HTML representation or trust the notebook. <br />On GitHub, the HTML representation is unable to render, please try loading this page with nbviewer.org.</b></div><div class=\"sk-container\" hidden><div class=\"sk-item\"><div class=\"sk-estimator sk-toggleable\"><input class=\"sk-toggleable__control sk-hidden--visually\" id=\"sk-estimator-id-4\" type=\"checkbox\" checked><label for=\"sk-estimator-id-4\" class=\"sk-toggleable__label sk-toggleable__label-arrow\">RandomForestRegressor</label><div class=\"sk-toggleable__content\"><pre>RandomForestRegressor()</pre></div></div></div></div></div>"
            ]
          },
          "metadata": {},
          "execution_count": 99
        }
      ]
    },
    {
      "cell_type": "code",
      "source": [
        "test  = merged[merged[\"train\"] == 0]\n",
        "test  = test.drop([\"price\"], axis=1)"
      ],
      "metadata": {
        "id": "iBymVbDnnXEX"
      },
      "execution_count": null,
      "outputs": []
    },
    {
      "cell_type": "code",
      "source": [
        "y_pred = forest.predict(test)"
      ],
      "metadata": {
        "id": "LA9koUKTnKJU"
      },
      "execution_count": null,
      "outputs": []
    },
    {
      "cell_type": "code",
      "source": [
        "_test  = pd.read_csv(testPath)"
      ],
      "metadata": {
        "id": "IW-79L2SUJ7-"
      },
      "execution_count": null,
      "outputs": []
    },
    {
      "cell_type": "code",
      "source": [
        "_test['prediction'] = y_pred"
      ],
      "metadata": {
        "id": "pJOLjeBMULWd"
      },
      "execution_count": null,
      "outputs": []
    },
    {
      "cell_type": "code",
      "source": [
        "_test['prediction'] = y_pred"
      ],
      "metadata": {
        "id": "kELQlbkVUNxn"
      },
      "execution_count": null,
      "outputs": []
    },
    {
      "cell_type": "code",
      "source": [
        "_test.to_csv('test.csv', index=False)"
      ],
      "metadata": {
        "id": "gRW0spu2Vou-"
      },
      "execution_count": null,
      "outputs": []
    },
    {
      "cell_type": "code",
      "source": [
        "from google.colab import files\n",
        "\n",
        "# Assuming you have a DataFrame named _test\n",
        "\n",
        "# Save DataFrame as a CSV file\n",
        "_test.to_csv('test.csv', index=False)\n",
        "\n",
        "# Download the file to your local desktop\n",
        "files.download('test.csv')\n"
      ],
      "metadata": {
        "colab": {
          "base_uri": "https://localhost:8080/",
          "height": 34
        },
        "id": "wnNS3LyFWIwX",
        "outputId": "8128946a-f75f-4ac7-dcc7-67a794f40c5e"
      },
      "execution_count": null,
      "outputs": [
        {
          "output_type": "display_data",
          "data": {
            "text/plain": [
              "<IPython.core.display.Javascript object>"
            ],
            "application/javascript": [
              "\n",
              "    async function download(id, filename, size) {\n",
              "      if (!google.colab.kernel.accessAllowed) {\n",
              "        return;\n",
              "      }\n",
              "      const div = document.createElement('div');\n",
              "      const label = document.createElement('label');\n",
              "      label.textContent = `Downloading \"${filename}\": `;\n",
              "      div.appendChild(label);\n",
              "      const progress = document.createElement('progress');\n",
              "      progress.max = size;\n",
              "      div.appendChild(progress);\n",
              "      document.body.appendChild(div);\n",
              "\n",
              "      const buffers = [];\n",
              "      let downloaded = 0;\n",
              "\n",
              "      const channel = await google.colab.kernel.comms.open(id);\n",
              "      // Send a message to notify the kernel that we're ready.\n",
              "      channel.send({})\n",
              "\n",
              "      for await (const message of channel.messages) {\n",
              "        // Send a message to notify the kernel that we're ready.\n",
              "        channel.send({})\n",
              "        if (message.buffers) {\n",
              "          for (const buffer of message.buffers) {\n",
              "            buffers.push(buffer);\n",
              "            downloaded += buffer.byteLength;\n",
              "            progress.value = downloaded;\n",
              "          }\n",
              "        }\n",
              "      }\n",
              "      const blob = new Blob(buffers, {type: 'application/binary'});\n",
              "      const a = document.createElement('a');\n",
              "      a.href = window.URL.createObjectURL(blob);\n",
              "      a.download = filename;\n",
              "      div.appendChild(a);\n",
              "      a.click();\n",
              "      div.remove();\n",
              "    }\n",
              "  "
            ]
          },
          "metadata": {}
        },
        {
          "output_type": "display_data",
          "data": {
            "text/plain": [
              "<IPython.core.display.Javascript object>"
            ],
            "application/javascript": [
              "download(\"download_ff3d0b68-9a35-406f-ba0f-89d274d24d0d\", \"test.csv\", 63281)"
            ]
          },
          "metadata": {}
        }
      ]
    }
  ]
}